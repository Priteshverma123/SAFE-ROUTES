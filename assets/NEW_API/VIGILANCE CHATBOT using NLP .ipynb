{
 "cells": [
  {
   "cell_type": "markdown",
   "id": "58f48fd2",
   "metadata": {},
   "source": [
    "# EXPLORATORY DATA ANALYSIS "
   ]
  },
  {
   "cell_type": "code",
   "execution_count": 2,
   "id": "949abdd6",
   "metadata": {},
   "outputs": [
    {
     "name": "stderr",
     "output_type": "stream",
     "text": [
      "[nltk_data] Downloading package punkt to\n",
      "[nltk_data]     C:\\Users\\VARUN\\AppData\\Roaming\\nltk_data...\n",
      "[nltk_data]   Unzipping tokenizers\\punkt.zip.\n"
     ]
    }
   ],
   "source": [
    "import pandas as pd\n",
    "# Libraries needed for NLP \n",
    "import nltk \n",
    "nltk.download('punkt')\n",
    "from nltk.stem import PorterStemmer # used to reduce words to their base form, also known as the root form.\n",
    "stemmer = PorterStemmer()"
   ]
  },
  {
   "cell_type": "code",
   "execution_count": 3,
   "id": "985005f8",
   "metadata": {},
   "outputs": [
    {
     "ename": "ModuleNotFoundError",
     "evalue": "No module named 'tensorflow'",
     "output_type": "error",
     "traceback": [
      "\u001b[1;31m---------------------------------------------------------------------------\u001b[0m",
      "\u001b[1;31mModuleNotFoundError\u001b[0m                       Traceback (most recent call last)",
      "Cell \u001b[1;32mIn[3], line 2\u001b[0m\n\u001b[0;32m      1\u001b[0m \u001b[38;5;66;03m# Libraries needed for Tensorflow processing \u001b[39;00m\n\u001b[1;32m----> 2\u001b[0m \u001b[38;5;28;01mimport\u001b[39;00m \u001b[38;5;21;01mtensorflow\u001b[39;00m \u001b[38;5;28;01mas\u001b[39;00m \u001b[38;5;21;01mtf\u001b[39;00m\n\u001b[0;32m      3\u001b[0m \u001b[38;5;28;01mimport\u001b[39;00m \u001b[38;5;21;01mnumpy\u001b[39;00m \u001b[38;5;28;01mas\u001b[39;00m \u001b[38;5;21;01mnp\u001b[39;00m\n\u001b[0;32m      4\u001b[0m \u001b[38;5;28;01mimport\u001b[39;00m \u001b[38;5;21;01mrandom\u001b[39;00m \n",
      "\u001b[1;31mModuleNotFoundError\u001b[0m: No module named 'tensorflow'"
     ]
    }
   ],
   "source": [
    "# Libraries needed for Tensorflow processing \n",
    "import tensorflow as tf\n",
    "import numpy as np\n",
    "import random \n",
    "import json"
   ]
  },
  {
   "cell_type": "code",
   "execution_count": null,
   "id": "dc060c6e",
   "metadata": {},
   "outputs": [],
   "source": [
    "# Load the intents.json file from your local device \n",
    "with open('chat.json') as json_data :\n",
    "    intents = json.load(json_data)"
   ]
  },
  {
   "cell_type": "code",
   "execution_count": null,
   "id": "0023c46e",
   "metadata": {},
   "outputs": [],
   "source": [
    "intents"
   ]
  },
  {
   "cell_type": "markdown",
   "id": "fb585fa6",
   "metadata": {},
   "source": [
    "# PRE-PROCESSING THE TEXT DATA "
   ]
  },
  {
   "cell_type": "code",
   "execution_count": null,
   "id": "7b380600",
   "metadata": {},
   "outputs": [],
   "source": [
    "words =[]   # will contain all the unique words from the pattern to be trained so that chatbot gives correct outcome  \n",
    "classes =[]   # it will contain the list of all the text totally 8 elements here in text, so it will contain totally 8 elements in the document\n",
    "documents =[] # documents is like a tuple which will contain the first list , the first element of the list of words \n",
    "ignore =['?'] # if you want to remove any special characters "
   ]
  },
  {
   "cell_type": "code",
   "execution_count": null,
   "id": "3a9a74f9",
   "metadata": {},
   "outputs": [],
   "source": [
    "# loop through each sentence in the intents patterns\n",
    "for intent in intents['intents']:\n",
    "    for pattern in intent['patterns']:\n",
    "        # tokenize each and every word in the sentence\n",
    "        w =nltk.word_tokenize(pattern)\n",
    "        # add words to the words list \n",
    "        words.extend(w)\n",
    "        # add words to documents \n",
    "        documents.append((w,intent['tag']))\n",
    "        # add tags to our classes list \n",
    "        if intent['tag'] not in classes:\n",
    "            classes.append(intent['tag'])"
   ]
  },
  {
   "cell_type": "code",
   "execution_count": null,
   "id": "f9ee438d",
   "metadata": {},
   "outputs": [],
   "source": [
    "# Perform stemming and lower each word as well as remove duplicates\n",
    "words =[stemmer.stem(w.lower()) for w in words if w not in ignore] # stemmer converts the word into its root word\n",
    "words = sorted(list(set(words))) # coverted so that no duplicated or same words are appended in the list \n",
    "\n",
    "# remove duplicate classes \n",
    "classes = sorted(list(set(classes)))\n",
    "\n",
    "print(len(documents),\"documents\")\n",
    "print(len(classes),\"classes\",classes)\n",
    "print(len(words),\"unique stemmed words\",words)"
   ]
  },
  {
   "cell_type": "markdown",
   "id": "c29dfaff",
   "metadata": {},
   "source": [
    "#  CREATING AND TRAINING THE MODEL FOR CHATBOT "
   ]
  },
  {
   "cell_type": "code",
   "execution_count": null,
   "id": "965daad6",
   "metadata": {},
   "outputs": [],
   "source": [
    "# creating training data \n",
    "training =[]   # will work as X data \n",
    "output =[]   # will work as Y data\n",
    "# create an empty array for output\n",
    "output_empty =[0]* len(classes)\n",
    "\n",
    "# creating training set ,bag of words for each sentence \n",
    "for doc in documents:\n",
    "    # initialize bag of words \n",
    "    bag =[]\n",
    "    # list of tokenized words for the pattern \n",
    "    pattern_words =doc[0]\n",
    "    # stemming each word \n",
    "    pattern_words = [stemmer.stem(word.lower()) for word in pattern_words]\n",
    "    # create a bag of words of array \n",
    "    for w in words:\n",
    "        bag.append(1) if w in pattern_words else bag.append(0)\n",
    "    # output is '1' for current tag and '0' for the rest of other tags \n",
    "    output_row = list(output_empty)\n",
    "    output_row[classes.index(doc[1])]=1\n",
    "    \n",
    "    training.append([bag,output_row])\n",
    "# shuffling features and turning it to np.array\n",
    "random.shuffle(training)\n",
    "training = np.array(training)\n",
    "\n",
    "# creating training lists\n",
    "train_x = list(training[:,0])\n",
    "train_y = list(training[:,1])"
   ]
  },
  {
   "cell_type": "code",
   "execution_count": null,
   "id": "18f3bd60",
   "metadata": {},
   "outputs": [],
   "source": [
    "model = tf.keras.Sequential()\n",
    "model.add(tf.keras.layers.Dense(10,input_shape=(len(train_x[0]),))) # 1st layer with 10m neurons\n",
    "model.add(tf.keras.layers.Dense(10))\n",
    "model.add(tf.keras.layers.Dense(len(train_y[0]),activation='softmax')) # when there is more than 2 class(multi class classification) softmax is used\n",
    "model.compile(tf.keras.optimizers.Adam(),loss='categorical_crossentropy',metrics =['accuracy'])"
   ]
  },
  {
   "cell_type": "code",
   "execution_count": null,
   "id": "52fdddf7",
   "metadata": {},
   "outputs": [],
   "source": [
    "model.fit(np.array(train_x),np.array(train_y),epochs=100,batch_size=8,verbose=1)\n",
    "model.save(\"model.pkl\")"
   ]
  },
  {
   "cell_type": "markdown",
   "id": "ef59cec8",
   "metadata": {},
   "source": [
    "# MAKING PREDICTIONS USING CHATBOT"
   ]
  },
  {
   "cell_type": "code",
   "execution_count": null,
   "id": "755f8470",
   "metadata": {},
   "outputs": [],
   "source": [
    "import pickle \n",
    "pickle.dump({\"words\":words,'classes':classes},open(\"training_data\",'wb'))"
   ]
  },
  {
   "cell_type": "code",
   "execution_count": null,
   "id": "6b05cd5f",
   "metadata": {},
   "outputs": [],
   "source": [
    "from keras.models import load_model\n",
    "model = load_model(\"model.pkl\")"
   ]
  },
  {
   "cell_type": "code",
   "execution_count": null,
   "id": "75174900",
   "metadata": {},
   "outputs": [],
   "source": [
    "# restoring all the data structures \n",
    "data = pickle.load(open(\"training_data\",\"rb\"))\n",
    "words = data['words']\n",
    "classes = data['classes']"
   ]
  },
  {
   "cell_type": "code",
   "execution_count": null,
   "id": "0447b8c2",
   "metadata": {},
   "outputs": [],
   "source": [
    "with open('chat.json') as json_data:\n",
    "    intents = json.load(json_data)"
   ]
  },
  {
   "cell_type": "code",
   "execution_count": null,
   "id": "f0c5df04",
   "metadata": {},
   "outputs": [],
   "source": [
    "def clean_up_sentence(sentence):\n",
    "    # tokenizing the pattern\n",
    "    sentence_words = nltk.word_tokenize(sentence)\n",
    "    # stemming each word \n",
    "    sentence_words =[stemmer.stem(word.lower()) for word in sentence_words]\n",
    "    return sentence_words\n",
    "\n",
    "# returning bag of words array :0 or 1 for each word in the bag that exists in the sentence \n",
    "def bow(sentence,words):\n",
    "    # tokenize the pattern \n",
    "    sentence_words = clean_up_sentence(sentence)\n",
    "    # generating bag of words \n",
    "    bag = [0]*len(words)\n",
    "    for s in sentence_words:\n",
    "        for i,w in enumerate(words):\n",
    "            if w==s:\n",
    "                bag[i]=1\n",
    "    bag = np.array(bag)\n",
    "    return(bag)"
   ]
  },
  {
   "cell_type": "code",
   "execution_count": null,
   "id": "d25a67ce",
   "metadata": {},
   "outputs": [],
   "source": [
    "ERROR_THRESHOLD =0.30\n",
    "def classify(sentence):\n",
    "    # generate probabilities from the mmodel \n",
    "    bag = bow(sentence,words)\n",
    "    results = model.predict(np.array([bag]))\n",
    "    # filter out predictions below a threshold \n",
    "    results =[[i,r] for i ,r in enumerate(results[0]) if r>ERROR_THRESHOLD]\n",
    "    # sort by strength of probabilty \n",
    "    results.sort(key=lambda x:x[1],reverse=True)\n",
    "    return_list =[]\n",
    "    for r in results:\n",
    "        return_list.append((classes[r[0]],r[1]))\n",
    "    # return tuple of intent and probablity \n",
    "    return return_list\n",
    "\n",
    "def response(sentence):\n",
    "    results = classify(sentence)\n",
    "    # if we have a classification then find the matching intent tag \n",
    "    if results:\n",
    "        # loop as long as there are matches to the process \n",
    "        while results:\n",
    "            for i in intents['intents']:\n",
    "                # find a tag matching the first result\n",
    "                if i['tag']== results[0][0]:\n",
    "                    # a random response from the intent \n",
    "                    return print(random.choice(i['responses']))\n",
    "              \n",
    "            results.pop(0)\n",
    "            \n",
    "    "
   ]
  },
  {
   "cell_type": "code",
   "execution_count": null,
   "id": "d14f15e8",
   "metadata": {},
   "outputs": [],
   "source": [
    "response(\"hi\")"
   ]
  },
  {
   "cell_type": "code",
   "execution_count": null,
   "id": "121e920d",
   "metadata": {},
   "outputs": [],
   "source": [
    "response('Where is the nearest police station located')"
   ]
  },
  {
   "cell_type": "code",
   "execution_count": null,
   "id": "8df5fd61",
   "metadata": {},
   "outputs": [],
   "source": [
    "response(\"aarey road\")"
   ]
  },
  {
   "cell_type": "code",
   "execution_count": null,
   "id": "23c77d4a",
   "metadata": {},
   "outputs": [],
   "source": [
    "response('WhAT is the nearest help centre address')"
   ]
  },
  {
   "cell_type": "code",
   "execution_count": null,
   "id": "d2739db2",
   "metadata": {},
   "outputs": [],
   "source": [
    "response('YAshodham vidyal marg')"
   ]
  },
  {
   "cell_type": "code",
   "execution_count": null,
   "id": "7d1ceb27",
   "metadata": {},
   "outputs": [],
   "source": [
    "response(\"kanyapada\")"
   ]
  },
  {
   "cell_type": "code",
   "execution_count": null,
   "id": "ae015851",
   "metadata": {},
   "outputs": [],
   "source": [
    "response(\"film city\")"
   ]
  },
  {
   "cell_type": "code",
   "execution_count": null,
   "id": "e4d7b91d",
   "metadata": {},
   "outputs": [],
   "source": [
    "answer = \"film city\""
   ]
  },
  {
   "cell_type": "code",
   "execution_count": null,
   "id": "26fe23d0",
   "metadata": {},
   "outputs": [],
   "source": [
    "response(answer)"
   ]
  },
  {
   "cell_type": "code",
   "execution_count": null,
   "id": "373726a1",
   "metadata": {},
   "outputs": [],
   "source": [
    "response(\"can you tell me how many questons i asked\")\n"
   ]
  },
  {
   "cell_type": "code",
   "execution_count": null,
   "id": "475b4147",
   "metadata": {},
   "outputs": [],
   "source": []
  }
 ],
 "metadata": {
  "kernelspec": {
   "display_name": "Python 3 (ipykernel)",
   "language": "python",
   "name": "python3"
  },
  "language_info": {
   "codemirror_mode": {
    "name": "ipython",
    "version": 3
   },
   "file_extension": ".py",
   "mimetype": "text/x-python",
   "name": "python",
   "nbconvert_exporter": "python",
   "pygments_lexer": "ipython3",
   "version": "3.10.9"
  }
 },
 "nbformat": 4,
 "nbformat_minor": 5
}
